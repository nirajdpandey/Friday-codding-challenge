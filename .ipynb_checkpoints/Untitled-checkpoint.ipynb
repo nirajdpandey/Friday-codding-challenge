{
 "cells": [
  {
   "cell_type": "code",
   "execution_count": 2,
   "metadata": {},
   "outputs": [],
   "source": [
    "import logging\n",
    "import json\n",
    "import re\n",
    "import os\n",
    "\n",
    "# initialize logging\n",
    "logging.basicConfig(format='%(asctime)s : %(levelname)s : %(message)s', level=logging.INFO)\n",
    "logger = logging.getLogger(__name__)"
   ]
  },
  {
   "cell_type": "code",
   "execution_count": 3,
   "metadata": {},
   "outputs": [],
   "source": [
    "def input_string(string):\n",
    "    \n",
    "    logger.info(\"Information Extracted...\")\n",
    "\n",
    "    pattern_street = re.compile(r'[A-Za-z]+\\s?\\w+(?=\\s[Nn]o\\s\\d+$) | [A-Za-z]+\\s?\\w+\\s?[A-Za-z]+\\s?[A-Za-z]+',\n",
    "                                re.X)   # street name pattern\n",
    "    match_street = pattern_street.search(string)\n",
    "\n",
    "    \"\"\" If there are no house numbers provided in the input file, print(NO HOUSE NUMBER!) in the output JSON file \"\"\"\n",
    "    numbers_instring = re.findall(r'\\d+', string)  # finding digits in provided string\n",
    "\n",
    "    if len(numbers_instring) > 0:\n",
    "        pattern_housenumber = re.compile(r'(\\d+\\s?[A-Za-z]?$) | (^\\d+) | [Nn]o+[\\s?]+[0-9]+$',\n",
    "                                         re.X)  # house number pattern\n",
    "        match_housenumber = pattern_housenumber.search(string)\n",
    "        fin_housenumber = match_housenumber[0]\n",
    "    else:\n",
    "        match_housenumber = [\"NO HOUSE NUMBER!\"]\n",
    "\n",
    "    fin_housenumber = match_housenumber[0]\n",
    "    fin_street = match_street[0]\n",
    "\n",
    "    print(\"street: \", fin_street)\n",
    "    print(\"housenumber: \", fin_housenumber)\n",
    "\n",
    "    result = {'street': fin_street, 'housenumber': fin_housenumber}\n",
    "    return result"
   ]
  },
  {
   "cell_type": "code",
   "execution_count": 23,
   "metadata": {},
   "outputs": [
    {
     "name": "stderr",
     "output_type": "stream",
     "text": [
      "2020-12-27 19:45:41,250 : INFO : Information Extracted...\n"
     ]
    },
    {
     "name": "stdout",
     "output_type": "stream",
     "text": [
      "street:  Beckers street\n",
      "housenumber:  45\n",
      "Please check validity of your path again, result/\n"
     ]
    }
   ],
   "source": [
    "result = input_string('Beckers street 45\\n indrapuri 45')\n",
    "path_to_save_result = 'result/'\n",
    "if not os.path.exists(path_to_save_result):\n",
    "    print(\"your path doesn't exist\", path_to_save_result)\n",
    "    print(\"Making a directory with provided path\")\n",
    "    os.makedirs(path_to_save_result, exist_ok=True)\n",
    "else:\n",
    "    print(\"Please check validity of your path again, \" + str(path_to_save_result))\n",
    "with open(path_to_save_result+'result.json', 'w', encoding='utf8') as outfile:\n",
    "    json.dump(result, outfile, ensure_ascii=False)"
   ]
  },
  {
   "cell_type": "code",
   "execution_count": null,
   "metadata": {},
   "outputs": [],
   "source": [
    "    if not os.path.exists('result'):\n",
    "        os.makedirs('result')\n",
    "    with open(os.path.join('result', json_filename), 'a', encoding='utf8') as outfile:\n",
    "        json.dump(result, outfile, ensure_ascii=False)\n",
    "        # outfile.write('\\n')"
   ]
  },
  {
   "cell_type": "code",
   "execution_count": null,
   "metadata": {},
   "outputs": [],
   "source": [
    "input_filename = input(\"Enter the path of your file: \")\n",
    "\n",
    "if os.path.exists(input_filename):\n",
    "    print(\"your file has been loaded\", input_filename)\n",
    "else:\n",
    "    print(\"I did not find the file at, \" + str(input_filename))\n",
    "\n",
    "input_filename_noformat = re.search(r'(.txt|.dat)', input_filename)  # input filename without the .txt,.dat\n",
    "json_filename = input_filename[\n",
    "                0:input_filename_noformat.span()[0]] + '.json'  # creating .json file with same name as input file\n",
    "\n",
    "file1 = open(input_filename, 'r')\n",
    "lines = file1.readlines()\n",
    "for line in lines:\n",
    "    input_line = line.replace('\"', '').strip()  # replacing the \" with '\n",
    "    print(\"Street name and number is: \", input_line)\n",
    "    input_string(input_line)"
   ]
  }
 ],
 "metadata": {
  "kernelspec": {
   "display_name": "Python 3",
   "language": "python",
   "name": "python3"
  },
  "language_info": {
   "codemirror_mode": {
    "name": "ipython",
    "version": 3
   },
   "file_extension": ".py",
   "mimetype": "text/x-python",
   "name": "python",
   "nbconvert_exporter": "python",
   "pygments_lexer": "ipython3",
   "version": "3.7.7"
  }
 },
 "nbformat": 4,
 "nbformat_minor": 4
}
